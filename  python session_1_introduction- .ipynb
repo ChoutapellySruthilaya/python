{
 "cells": [
  {
   "cell_type": "code",
   "execution_count": 1,
   "id": "36f93a16-2267-45b8-939b-94431ab96563",
   "metadata": {},
   "outputs": [
    {
     "data": {
      "text/plain": [
       "50"
      ]
     },
     "execution_count": 1,
     "metadata": {},
     "output_type": "execute_result"
    }
   ],
   "source": [
    "a=20\n",
    "b=30\n",
    "a+b"
   ]
  },
  {
   "cell_type": "markdown",
   "id": "fcaffd6e-241d-46a8-8dc8-a4a8684a5658",
   "metadata": {},
   "source": [
    "- if kernel is black: it is busy\n",
    "- if kernel is white : it is very busy\n",
    "- we have to wait for some time"
   ]
  },
  {
   "cell_type": "markdown",
   "id": "287cc6da-36c8-421c-b59a-7fff50a1e600",
   "metadata": {},
   "source": [
    "- if we want zoomin : ctrl++\n",
    "- if we want to zoomout : ctrl--"
   ]
  },
  {
   "cell_type": "markdown",
   "id": "6ebe64a1-5cc0-427e-b237-6b1a49faf201",
   "metadata": {},
   "source": [
    "<head><script type=\"text/javascript\" nonce=\"\">//<![CDATA["
   ]
  },
  {
   "cell_type": "markdown",
   "id": "1a479ca2-b673-44f6-9d92-52846a8e13ec",
   "metadata": {},
   "source": [
    "<html dir=\"ltr\" lang=\"en\" xml:lang=\"en\" xmlns=\"http://www.w3.org/1999/xhtml\" xmlns:web=\"http://schemas.live.com/Web/\"><head><script type=\"text/javascript\" nonce=\"\">//<![CDATA["
   ]
  },
  {
   "cell_type": "markdown",
   "id": "26dd3286-aa43-4107-b1a4-0888b58386d6",
   "metadata": {},
   "source": [
    "<img class=\"mimg rms_img\" style=\"color: rgb(201, 156, 2);\" height=\"180\" width=\"198\" alt=\"Image result for python program images\" id=\"emb350A32F0\" src=\"data:image/jpeg;base64,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\" data-thhnrepbd=\"1\" data-bm=\"192\">"
   ]
  },
  {
   "cell_type": "code",
   "execution_count": 1,
   "id": "efa7bd41-ef7c-4088-86f2-ba986935de2a",
   "metadata": {},
   "outputs": [],
   "source": [
    "import os"
   ]
  },
  {
   "cell_type": "code",
   "execution_count": 2,
   "id": "6d0d0ba8-8f6f-4dde-b137-c6a35898009f",
   "metadata": {},
   "outputs": [
    {
     "data": {
      "text/plain": [
       "'C:\\\\Users\\\\Sruth\\\\Documents\\\\Naresh it\\\\python'"
      ]
     },
     "execution_count": 2,
     "metadata": {},
     "output_type": "execute_result"
    }
   ],
   "source": [
    "os.getcwd()\n"
   ]
  },
  {
   "cell_type": "code",
   "execution_count": 3,
   "id": "5b55b59d-3c4a-4e4d-812a-529d11a06fd8",
   "metadata": {},
   "outputs": [
    {
     "data": {
      "text/plain": [
       "'C:\\\\Users\\\\Sruth\\\\Documents\\\\Naresh it\\\\python'"
      ]
     },
     "execution_count": 3,
     "metadata": {},
     "output_type": "execute_result"
    }
   ],
   "source": [
    "import os\n",
    "os.getcwd()"
   ]
  },
  {
   "cell_type": "markdown",
   "id": "c242e0cb-e070-46d2-a4cf-da6008991b6b",
   "metadata": {},
   "source": [
    "python\n",
    "code====markdown\n",
    "esc+m\n",
    "get back\n",
    "esc+y"
   ]
  },
  {
   "cell_type": "markdown",
   "id": "02dd5042-dd19-4962-a05c-43bc87c016aa",
   "metadata": {},
   "source": [
    "##variables"
   ]
  },
  {
   "cell_type": "markdown",
   "id": "f5d6c1dc-7ce7-4a75-811d-f68ade5d3f4a",
   "metadata": {},
   "source": [
    "## variable"
   ]
  },
  {
   "cell_type": "markdown",
   "id": "31fc2ed9-856b-48bc-8b60-142920660c3d",
   "metadata": {},
   "source": [
    "- variable is used to store value\n",
    "\n",
    "- in python latest value is consider\n",
    "\n",
    "- python is a step by step process\n",
    "\n",
    "- variables can change their value"
   ]
  },
  {
   "cell_type": "markdown",
   "id": "4c67e86a-b698-4d41-b5ee-e2ba3b585f3e",
   "metadata": {},
   "source": [
    "num=10\n",
    "num\n",
    "#comment\n",
    "#value stored in 'num'"
   ]
  },
  {
   "cell_type": "code",
   "execution_count": 7,
   "id": "d01bb528-0cad-45ff-840f-631370364faa",
   "metadata": {},
   "outputs": [
    {
     "data": {
      "text/plain": [
       "100"
      ]
     },
     "execution_count": 7,
     "metadata": {},
     "output_type": "execute_result"
    }
   ],
   "source": [
    "NUM=100\n",
    "NUM"
   ]
  },
  {
   "cell_type": "code",
   "execution_count": null,
   "id": "45e573c2-3494-4096-bd6f-7f20ea2469a9",
   "metadata": {},
   "outputs": [],
   "source": [
    "# whenever we run new cell is created\n",
    "# shift enter for result"
   ]
  },
  {
   "cell_type": "code",
   "execution_count": 8,
   "id": "138fb655-6ce0-47a2-822b-1292a775f422",
   "metadata": {},
   "outputs": [
    {
     "data": {
      "text/plain": [
       "100"
      ]
     },
     "execution_count": 8,
     "metadata": {},
     "output_type": "execute_result"
    }
   ],
   "source": [
    "number=100\n",
    "number"
   ]
  },
  {
   "cell_type": "code",
   "execution_count": 10,
   "id": "4b8ddd2d-0152-43b5-8282-96ce3d7bcd04",
   "metadata": {},
   "outputs": [
    {
     "data": {
      "text/plain": [
       "200"
      ]
     },
     "execution_count": 10,
     "metadata": {},
     "output_type": "execute_result"
    }
   ],
   "source": [
    "numBER=200\n",
    "numBER"
   ]
  },
  {
   "cell_type": "code",
   "execution_count": 11,
   "id": "58041b25-9b58-45ac-b920-c5eb7ff54656",
   "metadata": {},
   "outputs": [
    {
     "data": {
      "text/plain": [
       "500"
      ]
     },
     "execution_count": 11,
     "metadata": {},
     "output_type": "execute_result"
    }
   ],
   "source": [
    "number123=500\n",
    "number123"
   ]
  },
  {
   "cell_type": "code",
   "execution_count": 12,
   "id": "e755151b-e9dd-4e30-a556-2f9d568d8b6b",
   "metadata": {},
   "outputs": [
    {
     "ename": "SyntaxError",
     "evalue": "invalid decimal literal (359278068.py, line 1)",
     "output_type": "error",
     "traceback": [
      "\u001b[1;36m  Cell \u001b[1;32mIn[12], line 1\u001b[1;36m\u001b[0m\n\u001b[1;33m    123number=400\u001b[0m\n\u001b[1;37m      ^\u001b[0m\n\u001b[1;31mSyntaxError\u001b[0m\u001b[1;31m:\u001b[0m invalid decimal literal\n"
     ]
    }
   ],
   "source": [
    "123number=400\n",
    "123number"
   ]
  },
  {
   "cell_type": "code",
   "execution_count": 14,
   "id": "3874fe06-b0f5-4d5d-a588-ba5f877eb0ef",
   "metadata": {},
   "outputs": [],
   "source": [
    "sruthi=300"
   ]
  },
  {
   "cell_type": "code",
   "execution_count": 15,
   "id": "f3c02da6-045f-4d60-9bd8-b74ea895a33d",
   "metadata": {},
   "outputs": [
    {
     "data": {
      "text/plain": [
       "300"
      ]
     },
     "execution_count": 15,
     "metadata": {},
     "output_type": "execute_result"
    }
   ],
   "source": [
    "sruthi"
   ]
  },
  {
   "cell_type": "code",
   "execution_count": 16,
   "id": "d66734f7-5602-4df8-b74f-f88b0829ed03",
   "metadata": {},
   "outputs": [
    {
     "ename": "SyntaxError",
     "evalue": "cannot assign to expression here. Maybe you meant '==' instead of '='? (3649041288.py, line 1)",
     "output_type": "error",
     "traceback": [
      "\u001b[1;36m  Cell \u001b[1;32mIn[16], line 1\u001b[1;36m\u001b[0m\n\u001b[1;33m    number@one=1\u001b[0m\n\u001b[1;37m    ^\u001b[0m\n\u001b[1;31mSyntaxError\u001b[0m\u001b[1;31m:\u001b[0m cannot assign to expression here. Maybe you meant '==' instead of '='?\n"
     ]
    }
   ],
   "source": [
    "number@one=1\n",
    "number@one"
   ]
  },
  {
   "cell_type": "code",
   "execution_count": 17,
   "id": "3bd7f45d-968b-406c-87b3-128157155534",
   "metadata": {},
   "outputs": [
    {
     "ename": "SyntaxError",
     "evalue": "invalid syntax (1425116963.py, line 1)",
     "output_type": "error",
     "traceback": [
      "\u001b[1;36m  Cell \u001b[1;32mIn[17], line 1\u001b[1;36m\u001b[0m\n\u001b[1;33m    number$two=500\u001b[0m\n\u001b[1;37m          ^\u001b[0m\n\u001b[1;31mSyntaxError\u001b[0m\u001b[1;31m:\u001b[0m invalid syntax\n"
     ]
    }
   ],
   "source": [
    "number$two=500\n",
    "number$two"
   ]
  },
  {
   "cell_type": "code",
   "execution_count": 18,
   "id": "a35c3ab1-f1e4-4069-b959-d78aee06174e",
   "metadata": {},
   "outputs": [
    {
     "ename": "SyntaxError",
     "evalue": "invalid syntax (2750730508.py, line 1)",
     "output_type": "error",
     "traceback": [
      "\u001b[1;36m  Cell \u001b[1;32mIn[18], line 1\u001b[1;36m\u001b[0m\n\u001b[1;33m    num one=500\u001b[0m\n\u001b[1;37m        ^\u001b[0m\n\u001b[1;31mSyntaxError\u001b[0m\u001b[1;31m:\u001b[0m invalid syntax\n"
     ]
    }
   ],
   "source": [
    "num one=500\n",
    "num one"
   ]
  },
  {
   "cell_type": "code",
   "execution_count": 19,
   "id": "b1af6d17-6599-4d3a-93ad-0320d2f9b520",
   "metadata": {},
   "outputs": [
    {
     "data": {
      "text/plain": [
       "450"
      ]
     },
     "execution_count": 19,
     "metadata": {},
     "output_type": "execute_result"
    }
   ],
   "source": [
    "num_one=450\n",
    "num_one"
   ]
  },
  {
   "cell_type": "code",
   "execution_count": 20,
   "id": "7c9f0ed5-453a-4724-b990-f284c05ea490",
   "metadata": {},
   "outputs": [
    {
     "ename": "SyntaxError",
     "evalue": "invalid syntax (3180464482.py, line 2)",
     "output_type": "error",
     "traceback": [
      "\u001b[1;36m  Cell \u001b[1;32mIn[20], line 2\u001b[1;36m\u001b[0m\n\u001b[1;33m    num*\u001b[0m\n\u001b[1;37m        ^\u001b[0m\n\u001b[1;31mSyntaxError\u001b[0m\u001b[1;31m:\u001b[0m invalid syntax\n"
     ]
    }
   ],
   "source": [
    "num*=100\n",
    "num*"
   ]
  },
  {
   "cell_type": "code",
   "execution_count": 22,
   "id": "a971fb68-b970-4f30-9ae3-0232a755ab80",
   "metadata": {},
   "outputs": [
    {
     "data": {
      "text/plain": [
       "560"
      ]
     },
     "execution_count": 22,
     "metadata": {},
     "output_type": "execute_result"
    }
   ],
   "source": [
    "_=560\n",
    "_"
   ]
  },
  {
   "cell_type": "code",
   "execution_count": 23,
   "id": "3dbed234-5e6c-4999-bcc8-155544ac8178",
   "metadata": {},
   "outputs": [
    {
     "ename": "SyntaxError",
     "evalue": "invalid syntax (852617324.py, line 1)",
     "output_type": "error",
     "traceback": [
      "\u001b[1;36m  Cell \u001b[1;32mIn[23], line 1\u001b[1;36m\u001b[0m\n\u001b[1;33m    if=600\u001b[0m\n\u001b[1;37m      ^\u001b[0m\n\u001b[1;31mSyntaxError\u001b[0m\u001b[1;31m:\u001b[0m invalid syntax\n"
     ]
    }
   ],
   "source": [
    "if=600\n",
    "if"
   ]
  },
  {
   "cell_type": "code",
   "execution_count": 24,
   "id": "b4e40854-8f7b-4f3b-a39a-ac5ab74d6b10",
   "metadata": {},
   "outputs": [
    {
     "ename": "SyntaxError",
     "evalue": "invalid syntax (1515400432.py, line 1)",
     "output_type": "error",
     "traceback": [
      "\u001b[1;36m  Cell \u001b[1;32mIn[24], line 1\u001b[1;36m\u001b[0m\n\u001b[1;33m    while=679\u001b[0m\n\u001b[1;37m         ^\u001b[0m\n\u001b[1;31mSyntaxError\u001b[0m\u001b[1;31m:\u001b[0m invalid syntax\n"
     ]
    }
   ],
   "source": [
    "while=679\n",
    "while"
   ]
  },
  {
   "cell_type": "code",
   "execution_count": 25,
   "id": "c4c0aa8b-63b6-4189-ad52-cebb7ac52aaa",
   "metadata": {},
   "outputs": [
    {
     "data": {
      "text/plain": [
       "299"
      ]
     },
     "execution_count": 25,
     "metadata": {},
     "output_type": "execute_result"
    }
   ],
   "source": [
    "s_r_u_t_h_i=299\n",
    "s_r_u_t_h_i"
   ]
  },
  {
   "cell_type": "code",
   "execution_count": 26,
   "id": "48ef9a54-3021-4154-bfa3-77c6f42fd046",
   "metadata": {},
   "outputs": [
    {
     "data": {
      "text/plain": [
       "450"
      ]
     },
     "execution_count": 26,
     "metadata": {},
     "output_type": "execute_result"
    }
   ],
   "source": [
    "s_r_u_t_h_i=450\n",
    "s_r_u_t_h_i\n",
    "\n"
   ]
  },
  {
   "cell_type": "markdown",
   "id": "73334e31-277d-437a-8cb1-a71a424bcaa4",
   "metadata": {},
   "source": [
    "- variables are case senstive\n",
    "- var can be capital and small letters\n",
    "- var does not allow special char exspect underscore(_)\n",
    "- only one underscore(_) can be a var\n",
    "- var doesnot contains space between the words\n",
    "- var can not contain num as prefixeg:123number=89\n",
    "- var can contains numbers as suxfix eg:number123=678\n",
    "- var does not contain any keywords\n"
   ]
  },
  {
   "cell_type": "code",
   "execution_count": 8,
   "id": "f56f9960-9f0f-4d64-8b2c-214390709c2a",
   "metadata": {},
   "outputs": [
    {
     "data": {
      "text/plain": [
       "'C:\\\\Users\\\\Sruth\\\\Documents\\\\Naresh it\\\\python'"
      ]
     },
     "execution_count": 8,
     "metadata": {},
     "output_type": "execute_result"
    }
   ],
   "source": [
    "import os \n",
    "os.getcwd()\n"
   ]
  },
  {
   "cell_type": "code",
   "execution_count": 9,
   "id": "17a399bc-8c70-450b-9860-22527d0c125c",
   "metadata": {},
   "outputs": [
    {
     "data": {
      "text/plain": [
       "'C:\\\\Users\\\\Sruth\\\\Documents\\\\Naresh it\\\\python'"
      ]
     },
     "execution_count": 9,
     "metadata": {},
     "output_type": "execute_result"
    }
   ],
   "source": [
    "import os\n",
    "os.getcwd()"
   ]
  },
  {
   "cell_type": "markdown",
   "id": "7aa5d6d4-ce2b-40ba-9681-3aa31fdf6a2a",
   "metadata": {},
   "source": [
    "<head><script type=\"text/javascript\" nonce=\"\">//<![CDATA["
   ]
  },
  {
   "cell_type": "markdown",
   "id": "72780832-bd1e-4579-8d70-1bfce0a9738e",
   "metadata": {},
   "source": [
    "<head><script type=\"text/javascript\" nonce=\"\">//<![CDATA["
   ]
  },
  {
   "cell_type": "markdown",
   "id": "60142d38-4af0-4980-91ca-9a20cf6d5195",
   "metadata": {},
   "source": [
    "<img class=\"mimg\" style=\"color: rgb(24, 141, 179);\" height=\"180\" width=\"255\" src=\"https://th.bing.com/th/id/OIP.ij-wZlaLqb_d-ejhCkrxlgHaE7?w=255&amp;h=180&amp;c=7&amp;r=0&amp;o=5&amp;dpr=1.3&amp;pid=1.7\" alt=\"Image result for python programm language photos\" data-thhnrepbd=\"1\" data-bm=\"163\">"
   ]
  },
  {
   "cell_type": "code",
   "execution_count": 1,
   "id": "7b08439d-4b5c-4b86-8a6f-9c82ae49e522",
   "metadata": {},
   "outputs": [
    {
     "name": "stdout",
     "output_type": "stream",
     "text": [
      "hello world\n"
     ]
    }
   ],
   "source": [
    "print('hello world')"
   ]
  },
  {
   "cell_type": "code",
   "execution_count": 2,
   "id": "48d1a0b2-1312-4c8b-9024-131b682cb3ad",
   "metadata": {},
   "outputs": [
    {
     "data": {
      "text/plain": [
       "('help', 'copyrights', 'credits')"
      ]
     },
     "execution_count": 2,
     "metadata": {},
     "output_type": "execute_result"
    }
   ],
   "source": [
    "\"help\",\"copyrights\",\"credits\""
   ]
  },
  {
   "cell_type": "code",
   "execution_count": 3,
   "id": "b13ee024-0187-4480-878b-dc209f630f72",
   "metadata": {},
   "outputs": [
    {
     "name": "stdout",
     "output_type": "stream",
     "text": [
      "You must be the legendary god\n"
     ]
    }
   ],
   "source": [
    "print('You must be the legendary god')"
   ]
  },
  {
   "cell_type": "code",
   "execution_count": 4,
   "id": "dc196ccc-5cae-4e87-b174-ec8c942b5de9",
   "metadata": {},
   "outputs": [
    {
     "data": {
      "text/plain": [
       "6"
      ]
     },
     "execution_count": 4,
     "metadata": {},
     "output_type": "execute_result"
    }
   ],
   "source": [
    "x=6\n",
    "x"
   ]
  },
  {
   "cell_type": "code",
   "execution_count": 5,
   "id": "1fe3c3c2-8446-427f-8886-ed143eba810c",
   "metadata": {},
   "outputs": [
    {
     "data": {
      "text/plain": [
       "42"
      ]
     },
     "execution_count": 5,
     "metadata": {},
     "output_type": "execute_result"
    }
   ],
   "source": [
    "y=x*7\n",
    "y"
   ]
  },
  {
   "cell_type": "code",
   "execution_count": 6,
   "id": "5535859f-c0bf-45a6-b430-3d547ee868e2",
   "metadata": {},
   "outputs": [
    {
     "name": "stdout",
     "output_type": "stream",
     "text": [
      "42\n"
     ]
    }
   ],
   "source": [
    "print(y)"
   ]
  },
  {
   "cell_type": "code",
   "execution_count": null,
   "id": "3f770909-f40f-4d3d-9b0c-cf6de461b4ab",
   "metadata": {},
   "outputs": [],
   "source": []
  }
 ],
 "metadata": {
  "kernelspec": {
   "display_name": "Python 3 (ipykernel)",
   "language": "python",
   "name": "python3"
  },
  "language_info": {
   "codemirror_mode": {
    "name": "ipython",
    "version": 3
   },
   "file_extension": ".py",
   "mimetype": "text/x-python",
   "name": "python",
   "nbconvert_exporter": "python",
   "pygments_lexer": "ipython3",
   "version": "3.11.7"
  }
 },
 "nbformat": 4,
 "nbformat_minor": 5
}
